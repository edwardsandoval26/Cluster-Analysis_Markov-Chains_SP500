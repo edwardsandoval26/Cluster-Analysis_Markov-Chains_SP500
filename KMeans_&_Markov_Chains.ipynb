{
  "cells": [
    {
      "attachments": {},
      "cell_type": "markdown",
      "metadata": {
        "id": "Ngi2FfYhnJjF"
      },
      "source": [
        "# Import and install libraries"
      ]
    },
    {
      "cell_type": "code",
      "execution_count": 2,
      "metadata": {
        "id": "wu6o2-l4j4u6"
      },
      "outputs": [],
      "source": [
        "import pandas as pd\n",
        "import matplotlib.pyplot as plt\n",
        "import seaborn as sns\n",
        "import yfinance\n",
        "from sklearn.cluster import KMeans\n",
        "from numpy.lib.stride_tricks import sliding_window_view\n",
        "import plotly.express as px\n",
        "import plotly.graph_objects as go\n",
        "import numpy as np\n"
      ]
    },
    {
      "attachments": {},
      "cell_type": "markdown",
      "metadata": {
        "id": "v1UlPkMZnt18"
      },
      "source": [
        "# Algorithm"
      ]
    },
    {
      "cell_type": "markdown",
      "metadata": {
        "id": "XHVfU2Yun0KN"
      },
      "source": [
        "This idea is basically to test the hypothesis that the market can be classified into different states and take advantage of this.\n",
        "\n",
        "1. To test this the first step is to classify multiple sets of days through an unsupervised algorithm such as KMeans, considering just the relative movement between days (to standarice the scales).\n",
        "\n",
        "2. The second step is to assess the probability of each \"market state\" moving to another state.\n",
        "\n",
        "3. The third step requires further investigation, and is beyond the scope of this notebook, is to study each specific market state or class, and how to exploit it given the probabilities of it changing.\n",
        "\n",
        "\n",
        "The relative movement is an standariced measure that evaluates the percentage of displacement respect the previous day. Its given by:\n",
        "\n",
        "$$R_i = \\frac{p_{i}-p_{i-1}}{p_{i-1}}$$\n"
      ]
    },
    {
      "attachments": {},
      "cell_type": "markdown",
      "metadata": {
        "id": "qOZjaeEjnN5N"
      },
      "source": [
        "# Implementation"
      ]
    },
    {
      "attachments": {},
      "cell_type": "markdown",
      "metadata": {
        "id": "74y6mIEu4YnS"
      },
      "source": [
        "## Import and preprocess Data"
      ]
    },
    {
      "cell_type": "code",
      "execution_count": 3,
      "metadata": {
        "colab": {
          "base_uri": "https://localhost:8080/"
        },
        "id": "ZMDDtiSEknzc",
        "outputId": "46420a83-de8a-4d14-c1cb-cca24f618e71"
      },
      "outputs": [
        {
          "name": "stdout",
          "output_type": "stream",
          "text": [
            "[*********************100%***********************]  1 of 1 completed\n"
          ]
        }
      ],
      "source": [
        "raw_data = yfinance.download (tickers = \"^GSPC\", start = \"2000-01-01\",  end = \"2022-12-31\", interval = \"1d\")"
      ]
    },
    {
      "cell_type": "code",
      "execution_count": 4,
      "metadata": {
        "colab": {
          "base_uri": "https://localhost:8080/",
          "height": 255
        },
        "id": "STqYSjycm5yF",
        "outputId": "70560ae5-b15d-46d7-b5cd-b21bf0aa171b"
      },
      "outputs": [
        {
          "name": "stdout",
          "output_type": "stream",
          "text": [
            "(5787, 6)\n"
          ]
        },
        {
          "data": {
            "text/html": [
              "<div>\n",
              "<style scoped>\n",
              "    .dataframe tbody tr th:only-of-type {\n",
              "        vertical-align: middle;\n",
              "    }\n",
              "\n",
              "    .dataframe tbody tr th {\n",
              "        vertical-align: top;\n",
              "    }\n",
              "\n",
              "    .dataframe thead th {\n",
              "        text-align: right;\n",
              "    }\n",
              "</style>\n",
              "<table border=\"1\" class=\"dataframe\">\n",
              "  <thead>\n",
              "    <tr style=\"text-align: right;\">\n",
              "      <th></th>\n",
              "      <th>Open</th>\n",
              "      <th>High</th>\n",
              "      <th>Low</th>\n",
              "      <th>Close</th>\n",
              "      <th>Adj Close</th>\n",
              "      <th>Volume</th>\n",
              "    </tr>\n",
              "    <tr>\n",
              "      <th>Date</th>\n",
              "      <th></th>\n",
              "      <th></th>\n",
              "      <th></th>\n",
              "      <th></th>\n",
              "      <th></th>\n",
              "      <th></th>\n",
              "    </tr>\n",
              "  </thead>\n",
              "  <tbody>\n",
              "    <tr>\n",
              "      <th>2000-01-03</th>\n",
              "      <td>1469.250000</td>\n",
              "      <td>1478.000000</td>\n",
              "      <td>1438.359985</td>\n",
              "      <td>1455.219971</td>\n",
              "      <td>1455.219971</td>\n",
              "      <td>931800000</td>\n",
              "    </tr>\n",
              "    <tr>\n",
              "      <th>2000-01-04</th>\n",
              "      <td>1455.219971</td>\n",
              "      <td>1455.219971</td>\n",
              "      <td>1397.430054</td>\n",
              "      <td>1399.420044</td>\n",
              "      <td>1399.420044</td>\n",
              "      <td>1009000000</td>\n",
              "    </tr>\n",
              "    <tr>\n",
              "      <th>2000-01-05</th>\n",
              "      <td>1399.420044</td>\n",
              "      <td>1413.270020</td>\n",
              "      <td>1377.680054</td>\n",
              "      <td>1402.109985</td>\n",
              "      <td>1402.109985</td>\n",
              "      <td>1085500000</td>\n",
              "    </tr>\n",
              "    <tr>\n",
              "      <th>2000-01-06</th>\n",
              "      <td>1402.109985</td>\n",
              "      <td>1411.900024</td>\n",
              "      <td>1392.099976</td>\n",
              "      <td>1403.449951</td>\n",
              "      <td>1403.449951</td>\n",
              "      <td>1092300000</td>\n",
              "    </tr>\n",
              "    <tr>\n",
              "      <th>2000-01-07</th>\n",
              "      <td>1403.449951</td>\n",
              "      <td>1441.469971</td>\n",
              "      <td>1400.729980</td>\n",
              "      <td>1441.469971</td>\n",
              "      <td>1441.469971</td>\n",
              "      <td>1225200000</td>\n",
              "    </tr>\n",
              "  </tbody>\n",
              "</table>\n",
              "</div>"
            ],
            "text/plain": [
              "                   Open         High          Low        Close    Adj Close  \\\n",
              "Date                                                                          \n",
              "2000-01-03  1469.250000  1478.000000  1438.359985  1455.219971  1455.219971   \n",
              "2000-01-04  1455.219971  1455.219971  1397.430054  1399.420044  1399.420044   \n",
              "2000-01-05  1399.420044  1413.270020  1377.680054  1402.109985  1402.109985   \n",
              "2000-01-06  1402.109985  1411.900024  1392.099976  1403.449951  1403.449951   \n",
              "2000-01-07  1403.449951  1441.469971  1400.729980  1441.469971  1441.469971   \n",
              "\n",
              "                Volume  \n",
              "Date                    \n",
              "2000-01-03   931800000  \n",
              "2000-01-04  1009000000  \n",
              "2000-01-05  1085500000  \n",
              "2000-01-06  1092300000  \n",
              "2000-01-07  1225200000  "
            ]
          },
          "execution_count": 4,
          "metadata": {},
          "output_type": "execute_result"
        }
      ],
      "source": [
        "print(raw_data.shape)\n",
        "raw_data.head()"
      ]
    },
    {
      "cell_type": "markdown",
      "metadata": {
        "id": "Hi4D02eOmXjs"
      },
      "source": [
        "As we are only showcasing an example there is only going to be used one of the availables predictors in the notebook, (specifically the close price).\n",
        "\n"
      ]
    },
    {
      "cell_type": "code",
      "execution_count": 5,
      "metadata": {
        "id": "lJQpauyamVq0"
      },
      "outputs": [],
      "source": [
        "window_size = 7 #window size\n",
        "x = raw_data[\"Close\"].to_numpy()\n",
        "R_m = ((x[1:] - x[:-1])/x[:-1])*100 #Relative movement\n",
        "\n",
        "#Making the windows of the time series data\n",
        "data = sliding_window_view(R_m,window_size)\n",
        "\n",
        "X_train = data[:int(len(data)*0.8),:]\n",
        "X_test = data[int(len(data)*0.8):,:]"
      ]
    },
    {
      "cell_type": "code",
      "execution_count": 6,
      "metadata": {
        "colab": {
          "base_uri": "https://localhost:8080/"
        },
        "id": "5zju42P7nbPt",
        "outputId": "3645c7f2-a91f-4810-ac35-fab9f7e751b5"
      },
      "outputs": [
        {
          "name": "stdout",
          "output_type": "stream",
          "text": [
            "(1156, 7)\n"
          ]
        }
      ],
      "source": [
        "print(X_test.shape)"
      ]
    },
    {
      "cell_type": "markdown",
      "metadata": {
        "id": "_kZQP3yAnAcN"
      },
      "source": [
        "## Classify with KMeans"
      ]
    },
    {
      "cell_type": "code",
      "execution_count": 7,
      "metadata": {
        "colab": {
          "base_uri": "https://localhost:8080/"
        },
        "id": "XCZPxmqerDLu",
        "outputId": "02594c85-01ff-43d4-988b-84198bd5e92b"
      },
      "outputs": [
        {
          "data": {
            "text/plain": [
              "KMeans(n_clusters=9, random_state=0)"
            ]
          },
          "execution_count": 7,
          "metadata": {},
          "output_type": "execute_result"
        }
      ],
      "source": [
        "#Fitting the non-supervised classifier\n",
        "classifier = KMeans(n_clusters = 9,random_state=0)\n",
        "classifier.fit(X_train)"
      ]
    },
    {
      "cell_type": "code",
      "execution_count": 8,
      "metadata": {
        "colab": {
          "base_uri": "https://localhost:8080/",
          "height": 542
        },
        "id": "8cLAlBadx4ef",
        "outputId": "304dc90e-5af2-4169-c778-9bb75e183c7a"
      },
      "outputs": [
        {
          "data": {
            "application/vnd.plotly.v1+json": {
              "config": {
                "plotlyServerURL": "https://plot.ly"
              },
              "data": [
                {
                  "mode": "lines",
                  "name": "Cluster # 1",
                  "type": "scatter",
                  "x": [
                    0,
                    1,
                    2,
                    3,
                    4,
                    5,
                    6
                  ],
                  "y": [
                    -0.7373534501609096,
                    -0.9472752665164071,
                    1.9647302832829792,
                    0.006493054944532306,
                    0.18055044762509312,
                    0.5288828237208983,
                    -0.09155040591502801
                  ]
                },
                {
                  "mode": "lines",
                  "name": "Cluster # 2",
                  "type": "scatter",
                  "x": [
                    0,
                    1,
                    2,
                    3,
                    4,
                    5,
                    6
                  ],
                  "y": [
                    -1.401655476693675,
                    2.223919756332268,
                    0.05430014356242416,
                    0.11538668086782061,
                    0.7946087291343799,
                    -0.35436791572744064,
                    -0.06596356759396502
                  ]
                },
                {
                  "mode": "lines",
                  "name": "Cluster # 3",
                  "type": "scatter",
                  "x": [
                    0,
                    1,
                    2,
                    3,
                    4,
                    5,
                    6
                  ],
                  "y": [
                    -0.7150488638403101,
                    0.18336830111243105,
                    -0.4099595421830164,
                    -0.536178508229246,
                    -1.773425498258048,
                    1.4440963731627616,
                    0.3159596996814194
                  ]
                },
                {
                  "mode": "lines",
                  "name": "Cluster # 4",
                  "type": "scatter",
                  "x": [
                    0,
                    1,
                    2,
                    3,
                    4,
                    5,
                    6
                  ],
                  "y": [
                    0.08313352570593353,
                    -0.573751431999986,
                    0.12092126614897143,
                    -0.521861109026939,
                    -0.5368647826354587,
                    -1.8499459898089134,
                    1.253398735442383
                  ]
                },
                {
                  "mode": "lines",
                  "name": "Cluster # 5",
                  "type": "scatter",
                  "x": [
                    0,
                    1,
                    2,
                    3,
                    4,
                    5,
                    6
                  ],
                  "y": [
                    0.11462679532731387,
                    0.053935770404273484,
                    -0.39507016812559265,
                    0.173981038647989,
                    -0.4039924008913324,
                    -0.3703995105303978,
                    -1.7982341256000605
                  ]
                },
                {
                  "mode": "lines",
                  "name": "Cluster # 6",
                  "type": "scatter",
                  "x": [
                    0,
                    1,
                    2,
                    3,
                    4,
                    5,
                    6
                  ],
                  "y": [
                    1.9777960511847865,
                    0.03489489906475615,
                    0.1931693664030632,
                    0.33254319733282023,
                    0.03940783557356356,
                    0.16452250243968655,
                    -0.052626273198400436
                  ]
                },
                {
                  "mode": "lines",
                  "name": "Cluster # 7",
                  "type": "scatter",
                  "x": [
                    0,
                    1,
                    2,
                    3,
                    4,
                    5,
                    6
                  ],
                  "y": [
                    0.06999599934013578,
                    0.23341654393339595,
                    0.14231684312303894,
                    0.08532466565576988,
                    0.052511871106377506,
                    0.09287659161506588,
                    0.13706819321725552
                  ]
                },
                {
                  "mode": "lines",
                  "name": "Cluster # 8",
                  "type": "scatter",
                  "x": [
                    0,
                    1,
                    2,
                    3,
                    4,
                    5,
                    6
                  ],
                  "y": [
                    -0.27307177156780305,
                    -0.958396184735007,
                    -0.8750863996179579,
                    1.7713415159027928,
                    0.07680157480781487,
                    0.04219634143347464,
                    0.47032070416987415
                  ]
                },
                {
                  "mode": "lines",
                  "name": "Cluster # 9",
                  "type": "scatter",
                  "x": [
                    0,
                    1,
                    2,
                    3,
                    4,
                    5,
                    6
                  ],
                  "y": [
                    0.12684744612913146,
                    -0.2515318188254473,
                    -0.7771506972730337,
                    -1.2775794811288017,
                    1.3656541956214392,
                    0.19586922537506207,
                    -0.13638508271103839
                  ]
                }
              ],
              "layout": {
                "template": {
                  "data": {
                    "bar": [
                      {
                        "error_x": {
                          "color": "#2a3f5f"
                        },
                        "error_y": {
                          "color": "#2a3f5f"
                        },
                        "marker": {
                          "line": {
                            "color": "#E5ECF6",
                            "width": 0.5
                          },
                          "pattern": {
                            "fillmode": "overlay",
                            "size": 10,
                            "solidity": 0.2
                          }
                        },
                        "type": "bar"
                      }
                    ],
                    "barpolar": [
                      {
                        "marker": {
                          "line": {
                            "color": "#E5ECF6",
                            "width": 0.5
                          },
                          "pattern": {
                            "fillmode": "overlay",
                            "size": 10,
                            "solidity": 0.2
                          }
                        },
                        "type": "barpolar"
                      }
                    ],
                    "carpet": [
                      {
                        "aaxis": {
                          "endlinecolor": "#2a3f5f",
                          "gridcolor": "white",
                          "linecolor": "white",
                          "minorgridcolor": "white",
                          "startlinecolor": "#2a3f5f"
                        },
                        "baxis": {
                          "endlinecolor": "#2a3f5f",
                          "gridcolor": "white",
                          "linecolor": "white",
                          "minorgridcolor": "white",
                          "startlinecolor": "#2a3f5f"
                        },
                        "type": "carpet"
                      }
                    ],
                    "choropleth": [
                      {
                        "colorbar": {
                          "outlinewidth": 0,
                          "ticks": ""
                        },
                        "type": "choropleth"
                      }
                    ],
                    "contour": [
                      {
                        "colorbar": {
                          "outlinewidth": 0,
                          "ticks": ""
                        },
                        "colorscale": [
                          [
                            0,
                            "#0d0887"
                          ],
                          [
                            0.1111111111111111,
                            "#46039f"
                          ],
                          [
                            0.2222222222222222,
                            "#7201a8"
                          ],
                          [
                            0.3333333333333333,
                            "#9c179e"
                          ],
                          [
                            0.4444444444444444,
                            "#bd3786"
                          ],
                          [
                            0.5555555555555556,
                            "#d8576b"
                          ],
                          [
                            0.6666666666666666,
                            "#ed7953"
                          ],
                          [
                            0.7777777777777778,
                            "#fb9f3a"
                          ],
                          [
                            0.8888888888888888,
                            "#fdca26"
                          ],
                          [
                            1,
                            "#f0f921"
                          ]
                        ],
                        "type": "contour"
                      }
                    ],
                    "contourcarpet": [
                      {
                        "colorbar": {
                          "outlinewidth": 0,
                          "ticks": ""
                        },
                        "type": "contourcarpet"
                      }
                    ],
                    "heatmap": [
                      {
                        "colorbar": {
                          "outlinewidth": 0,
                          "ticks": ""
                        },
                        "colorscale": [
                          [
                            0,
                            "#0d0887"
                          ],
                          [
                            0.1111111111111111,
                            "#46039f"
                          ],
                          [
                            0.2222222222222222,
                            "#7201a8"
                          ],
                          [
                            0.3333333333333333,
                            "#9c179e"
                          ],
                          [
                            0.4444444444444444,
                            "#bd3786"
                          ],
                          [
                            0.5555555555555556,
                            "#d8576b"
                          ],
                          [
                            0.6666666666666666,
                            "#ed7953"
                          ],
                          [
                            0.7777777777777778,
                            "#fb9f3a"
                          ],
                          [
                            0.8888888888888888,
                            "#fdca26"
                          ],
                          [
                            1,
                            "#f0f921"
                          ]
                        ],
                        "type": "heatmap"
                      }
                    ],
                    "heatmapgl": [
                      {
                        "colorbar": {
                          "outlinewidth": 0,
                          "ticks": ""
                        },
                        "colorscale": [
                          [
                            0,
                            "#0d0887"
                          ],
                          [
                            0.1111111111111111,
                            "#46039f"
                          ],
                          [
                            0.2222222222222222,
                            "#7201a8"
                          ],
                          [
                            0.3333333333333333,
                            "#9c179e"
                          ],
                          [
                            0.4444444444444444,
                            "#bd3786"
                          ],
                          [
                            0.5555555555555556,
                            "#d8576b"
                          ],
                          [
                            0.6666666666666666,
                            "#ed7953"
                          ],
                          [
                            0.7777777777777778,
                            "#fb9f3a"
                          ],
                          [
                            0.8888888888888888,
                            "#fdca26"
                          ],
                          [
                            1,
                            "#f0f921"
                          ]
                        ],
                        "type": "heatmapgl"
                      }
                    ],
                    "histogram": [
                      {
                        "marker": {
                          "pattern": {
                            "fillmode": "overlay",
                            "size": 10,
                            "solidity": 0.2
                          }
                        },
                        "type": "histogram"
                      }
                    ],
                    "histogram2d": [
                      {
                        "colorbar": {
                          "outlinewidth": 0,
                          "ticks": ""
                        },
                        "colorscale": [
                          [
                            0,
                            "#0d0887"
                          ],
                          [
                            0.1111111111111111,
                            "#46039f"
                          ],
                          [
                            0.2222222222222222,
                            "#7201a8"
                          ],
                          [
                            0.3333333333333333,
                            "#9c179e"
                          ],
                          [
                            0.4444444444444444,
                            "#bd3786"
                          ],
                          [
                            0.5555555555555556,
                            "#d8576b"
                          ],
                          [
                            0.6666666666666666,
                            "#ed7953"
                          ],
                          [
                            0.7777777777777778,
                            "#fb9f3a"
                          ],
                          [
                            0.8888888888888888,
                            "#fdca26"
                          ],
                          [
                            1,
                            "#f0f921"
                          ]
                        ],
                        "type": "histogram2d"
                      }
                    ],
                    "histogram2dcontour": [
                      {
                        "colorbar": {
                          "outlinewidth": 0,
                          "ticks": ""
                        },
                        "colorscale": [
                          [
                            0,
                            "#0d0887"
                          ],
                          [
                            0.1111111111111111,
                            "#46039f"
                          ],
                          [
                            0.2222222222222222,
                            "#7201a8"
                          ],
                          [
                            0.3333333333333333,
                            "#9c179e"
                          ],
                          [
                            0.4444444444444444,
                            "#bd3786"
                          ],
                          [
                            0.5555555555555556,
                            "#d8576b"
                          ],
                          [
                            0.6666666666666666,
                            "#ed7953"
                          ],
                          [
                            0.7777777777777778,
                            "#fb9f3a"
                          ],
                          [
                            0.8888888888888888,
                            "#fdca26"
                          ],
                          [
                            1,
                            "#f0f921"
                          ]
                        ],
                        "type": "histogram2dcontour"
                      }
                    ],
                    "mesh3d": [
                      {
                        "colorbar": {
                          "outlinewidth": 0,
                          "ticks": ""
                        },
                        "type": "mesh3d"
                      }
                    ],
                    "parcoords": [
                      {
                        "line": {
                          "colorbar": {
                            "outlinewidth": 0,
                            "ticks": ""
                          }
                        },
                        "type": "parcoords"
                      }
                    ],
                    "pie": [
                      {
                        "automargin": true,
                        "type": "pie"
                      }
                    ],
                    "scatter": [
                      {
                        "marker": {
                          "colorbar": {
                            "outlinewidth": 0,
                            "ticks": ""
                          }
                        },
                        "type": "scatter"
                      }
                    ],
                    "scatter3d": [
                      {
                        "line": {
                          "colorbar": {
                            "outlinewidth": 0,
                            "ticks": ""
                          }
                        },
                        "marker": {
                          "colorbar": {
                            "outlinewidth": 0,
                            "ticks": ""
                          }
                        },
                        "type": "scatter3d"
                      }
                    ],
                    "scattercarpet": [
                      {
                        "marker": {
                          "colorbar": {
                            "outlinewidth": 0,
                            "ticks": ""
                          }
                        },
                        "type": "scattercarpet"
                      }
                    ],
                    "scattergeo": [
                      {
                        "marker": {
                          "colorbar": {
                            "outlinewidth": 0,
                            "ticks": ""
                          }
                        },
                        "type": "scattergeo"
                      }
                    ],
                    "scattergl": [
                      {
                        "marker": {
                          "colorbar": {
                            "outlinewidth": 0,
                            "ticks": ""
                          }
                        },
                        "type": "scattergl"
                      }
                    ],
                    "scattermapbox": [
                      {
                        "marker": {
                          "colorbar": {
                            "outlinewidth": 0,
                            "ticks": ""
                          }
                        },
                        "type": "scattermapbox"
                      }
                    ],
                    "scatterpolar": [
                      {
                        "marker": {
                          "colorbar": {
                            "outlinewidth": 0,
                            "ticks": ""
                          }
                        },
                        "type": "scatterpolar"
                      }
                    ],
                    "scatterpolargl": [
                      {
                        "marker": {
                          "colorbar": {
                            "outlinewidth": 0,
                            "ticks": ""
                          }
                        },
                        "type": "scatterpolargl"
                      }
                    ],
                    "scatterternary": [
                      {
                        "marker": {
                          "colorbar": {
                            "outlinewidth": 0,
                            "ticks": ""
                          }
                        },
                        "type": "scatterternary"
                      }
                    ],
                    "surface": [
                      {
                        "colorbar": {
                          "outlinewidth": 0,
                          "ticks": ""
                        },
                        "colorscale": [
                          [
                            0,
                            "#0d0887"
                          ],
                          [
                            0.1111111111111111,
                            "#46039f"
                          ],
                          [
                            0.2222222222222222,
                            "#7201a8"
                          ],
                          [
                            0.3333333333333333,
                            "#9c179e"
                          ],
                          [
                            0.4444444444444444,
                            "#bd3786"
                          ],
                          [
                            0.5555555555555556,
                            "#d8576b"
                          ],
                          [
                            0.6666666666666666,
                            "#ed7953"
                          ],
                          [
                            0.7777777777777778,
                            "#fb9f3a"
                          ],
                          [
                            0.8888888888888888,
                            "#fdca26"
                          ],
                          [
                            1,
                            "#f0f921"
                          ]
                        ],
                        "type": "surface"
                      }
                    ],
                    "table": [
                      {
                        "cells": {
                          "fill": {
                            "color": "#EBF0F8"
                          },
                          "line": {
                            "color": "white"
                          }
                        },
                        "header": {
                          "fill": {
                            "color": "#C8D4E3"
                          },
                          "line": {
                            "color": "white"
                          }
                        },
                        "type": "table"
                      }
                    ]
                  },
                  "layout": {
                    "annotationdefaults": {
                      "arrowcolor": "#2a3f5f",
                      "arrowhead": 0,
                      "arrowwidth": 1
                    },
                    "autotypenumbers": "strict",
                    "coloraxis": {
                      "colorbar": {
                        "outlinewidth": 0,
                        "ticks": ""
                      }
                    },
                    "colorscale": {
                      "diverging": [
                        [
                          0,
                          "#8e0152"
                        ],
                        [
                          0.1,
                          "#c51b7d"
                        ],
                        [
                          0.2,
                          "#de77ae"
                        ],
                        [
                          0.3,
                          "#f1b6da"
                        ],
                        [
                          0.4,
                          "#fde0ef"
                        ],
                        [
                          0.5,
                          "#f7f7f7"
                        ],
                        [
                          0.6,
                          "#e6f5d0"
                        ],
                        [
                          0.7,
                          "#b8e186"
                        ],
                        [
                          0.8,
                          "#7fbc41"
                        ],
                        [
                          0.9,
                          "#4d9221"
                        ],
                        [
                          1,
                          "#276419"
                        ]
                      ],
                      "sequential": [
                        [
                          0,
                          "#0d0887"
                        ],
                        [
                          0.1111111111111111,
                          "#46039f"
                        ],
                        [
                          0.2222222222222222,
                          "#7201a8"
                        ],
                        [
                          0.3333333333333333,
                          "#9c179e"
                        ],
                        [
                          0.4444444444444444,
                          "#bd3786"
                        ],
                        [
                          0.5555555555555556,
                          "#d8576b"
                        ],
                        [
                          0.6666666666666666,
                          "#ed7953"
                        ],
                        [
                          0.7777777777777778,
                          "#fb9f3a"
                        ],
                        [
                          0.8888888888888888,
                          "#fdca26"
                        ],
                        [
                          1,
                          "#f0f921"
                        ]
                      ],
                      "sequentialminus": [
                        [
                          0,
                          "#0d0887"
                        ],
                        [
                          0.1111111111111111,
                          "#46039f"
                        ],
                        [
                          0.2222222222222222,
                          "#7201a8"
                        ],
                        [
                          0.3333333333333333,
                          "#9c179e"
                        ],
                        [
                          0.4444444444444444,
                          "#bd3786"
                        ],
                        [
                          0.5555555555555556,
                          "#d8576b"
                        ],
                        [
                          0.6666666666666666,
                          "#ed7953"
                        ],
                        [
                          0.7777777777777778,
                          "#fb9f3a"
                        ],
                        [
                          0.8888888888888888,
                          "#fdca26"
                        ],
                        [
                          1,
                          "#f0f921"
                        ]
                      ]
                    },
                    "colorway": [
                      "#636efa",
                      "#EF553B",
                      "#00cc96",
                      "#ab63fa",
                      "#FFA15A",
                      "#19d3f3",
                      "#FF6692",
                      "#B6E880",
                      "#FF97FF",
                      "#FECB52"
                    ],
                    "font": {
                      "color": "#2a3f5f"
                    },
                    "geo": {
                      "bgcolor": "white",
                      "lakecolor": "white",
                      "landcolor": "#E5ECF6",
                      "showlakes": true,
                      "showland": true,
                      "subunitcolor": "white"
                    },
                    "hoverlabel": {
                      "align": "left"
                    },
                    "hovermode": "closest",
                    "mapbox": {
                      "style": "light"
                    },
                    "paper_bgcolor": "white",
                    "plot_bgcolor": "#E5ECF6",
                    "polar": {
                      "angularaxis": {
                        "gridcolor": "white",
                        "linecolor": "white",
                        "ticks": ""
                      },
                      "bgcolor": "#E5ECF6",
                      "radialaxis": {
                        "gridcolor": "white",
                        "linecolor": "white",
                        "ticks": ""
                      }
                    },
                    "scene": {
                      "xaxis": {
                        "backgroundcolor": "#E5ECF6",
                        "gridcolor": "white",
                        "gridwidth": 2,
                        "linecolor": "white",
                        "showbackground": true,
                        "ticks": "",
                        "zerolinecolor": "white"
                      },
                      "yaxis": {
                        "backgroundcolor": "#E5ECF6",
                        "gridcolor": "white",
                        "gridwidth": 2,
                        "linecolor": "white",
                        "showbackground": true,
                        "ticks": "",
                        "zerolinecolor": "white"
                      },
                      "zaxis": {
                        "backgroundcolor": "#E5ECF6",
                        "gridcolor": "white",
                        "gridwidth": 2,
                        "linecolor": "white",
                        "showbackground": true,
                        "ticks": "",
                        "zerolinecolor": "white"
                      }
                    },
                    "shapedefaults": {
                      "line": {
                        "color": "#2a3f5f"
                      }
                    },
                    "ternary": {
                      "aaxis": {
                        "gridcolor": "white",
                        "linecolor": "white",
                        "ticks": ""
                      },
                      "baxis": {
                        "gridcolor": "white",
                        "linecolor": "white",
                        "ticks": ""
                      },
                      "bgcolor": "#E5ECF6",
                      "caxis": {
                        "gridcolor": "white",
                        "linecolor": "white",
                        "ticks": ""
                      }
                    },
                    "title": {
                      "x": 0.05
                    },
                    "xaxis": {
                      "automargin": true,
                      "gridcolor": "white",
                      "linecolor": "white",
                      "ticks": "",
                      "title": {
                        "standoff": 15
                      },
                      "zerolinecolor": "white",
                      "zerolinewidth": 2
                    },
                    "yaxis": {
                      "automargin": true,
                      "gridcolor": "white",
                      "linecolor": "white",
                      "ticks": "",
                      "title": {
                        "standoff": 15
                      },
                      "zerolinecolor": "white",
                      "zerolinewidth": 2
                    }
                  }
                }
              }
            }
          },
          "metadata": {},
          "output_type": "display_data"
        }
      ],
      "source": [
        "#Create a plot to have a better understanding of the centers created \n",
        "clusters = classifier.cluster_centers_\n",
        "\n",
        "fig = go.Figure()\n",
        "\n",
        "i = 1\n",
        "for cluster in clusters:\n",
        "  fig.add_trace(go.Scatter(x=list(range(0,window_size)), y=cluster,\n",
        "                    mode='lines',\n",
        "                    name=f'Cluster # {i}'))\n",
        "  i = i +1\n",
        "\n",
        "fig.show()"
      ]
    },
    {
      "cell_type": "code",
      "execution_count": 9,
      "metadata": {
        "colab": {
          "base_uri": "https://localhost:8080/",
          "height": 879
        },
        "id": "R3HrDmAk1tuY",
        "outputId": "d59232cc-3401-46a6-ad4d-31479bc0bf62"
      },
      "outputs": [
        {
          "data": {
            "image/png": "[encoded data removed]",
            "text/plain": [
              "<Figure size 1080x1080 with 9 Axes>"
            ]
          },
          "metadata": {
            "needs_background": "light"
          },
          "output_type": "display_data"
        }
      ],
      "source": [
        "#Separated plots seems to be better\n",
        "\n",
        "fig, axs = plt.subplots(3,3,figsize=(15, 15))\n",
        "i = 1\n",
        "for ax, cluster in zip(axs.flatten(),clusters.tolist()):\n",
        "  ax.plot(cluster)\n",
        "  ax.set_title(f'Cluster # {i}')\n",
        "  i = i+1"
      ]
    },
    {
      "cell_type": "code",
      "execution_count": 10,
      "metadata": {
        "colab": {
          "base_uri": "https://localhost:8080/",
          "height": 223
        },
        "id": "xLwAW8Y4qdDU",
        "outputId": "1a2fa998-40c3-4ec1-bf99-13ae72d4fb5c"
      },
      "outputs": [
        {
          "name": "stdout",
          "output_type": "stream",
          "text": [
            "(4624, 8)\n"
          ]
        },
        {
          "data": {
            "text/html": [
              "<div>\n",
              "<style scoped>\n",
              "    .dataframe tbody tr th:only-of-type {\n",
              "        vertical-align: middle;\n",
              "    }\n",
              "\n",
              "    .dataframe tbody tr th {\n",
              "        vertical-align: top;\n",
              "    }\n",
              "\n",
              "    .dataframe thead th {\n",
              "        text-align: right;\n",
              "    }\n",
              "</style>\n",
              "<table border=\"1\" class=\"dataframe\">\n",
              "  <thead>\n",
              "    <tr style=\"text-align: right;\">\n",
              "      <th></th>\n",
              "      <th>1</th>\n",
              "      <th>2</th>\n",
              "      <th>3</th>\n",
              "      <th>4</th>\n",
              "      <th>5</th>\n",
              "      <th>6</th>\n",
              "      <th>7</th>\n",
              "      <th>cluster</th>\n",
              "    </tr>\n",
              "  </thead>\n",
              "  <tbody>\n",
              "    <tr>\n",
              "      <th>0</th>\n",
              "      <td>-3.834467</td>\n",
              "      <td>0.192218</td>\n",
              "      <td>0.095568</td>\n",
              "      <td>2.709040</td>\n",
              "      <td>1.118997</td>\n",
              "      <td>-1.306251</td>\n",
              "      <td>-0.438637</td>\n",
              "      <td>1</td>\n",
              "    </tr>\n",
              "    <tr>\n",
              "      <th>1</th>\n",
              "      <td>0.192218</td>\n",
              "      <td>0.095568</td>\n",
              "      <td>2.709040</td>\n",
              "      <td>1.118997</td>\n",
              "      <td>-1.306251</td>\n",
              "      <td>-0.438637</td>\n",
              "      <td>1.216970</td>\n",
              "      <td>0</td>\n",
              "    </tr>\n",
              "    <tr>\n",
              "      <th>2</th>\n",
              "      <td>0.095568</td>\n",
              "      <td>2.709040</td>\n",
              "      <td>1.118997</td>\n",
              "      <td>-1.306251</td>\n",
              "      <td>-0.438637</td>\n",
              "      <td>1.216970</td>\n",
              "      <td>1.067130</td>\n",
              "      <td>1</td>\n",
              "    </tr>\n",
              "    <tr>\n",
              "      <th>3</th>\n",
              "      <td>2.709040</td>\n",
              "      <td>1.118997</td>\n",
              "      <td>-1.306251</td>\n",
              "      <td>-0.438637</td>\n",
              "      <td>1.216970</td>\n",
              "      <td>1.067130</td>\n",
              "      <td>-0.683207</td>\n",
              "      <td>5</td>\n",
              "    </tr>\n",
              "    <tr>\n",
              "      <th>4</th>\n",
              "      <td>1.118997</td>\n",
              "      <td>-1.306251</td>\n",
              "      <td>-0.438637</td>\n",
              "      <td>1.216970</td>\n",
              "      <td>1.067130</td>\n",
              "      <td>-0.683207</td>\n",
              "      <td>0.052229</td>\n",
              "      <td>7</td>\n",
              "    </tr>\n",
              "  </tbody>\n",
              "</table>\n",
              "</div>"
            ],
            "text/plain": [
              "          1         2         3         4         5         6         7  \\\n",
              "0 -3.834467  0.192218  0.095568  2.709040  1.118997 -1.306251 -0.438637   \n",
              "1  0.192218  0.095568  2.709040  1.118997 -1.306251 -0.438637  1.216970   \n",
              "2  0.095568  2.709040  1.118997 -1.306251 -0.438637  1.216970  1.067130   \n",
              "3  2.709040  1.118997 -1.306251 -0.438637  1.216970  1.067130 -0.683207   \n",
              "4  1.118997 -1.306251 -0.438637  1.216970  1.067130 -0.683207  0.052229   \n",
              "\n",
              "   cluster  \n",
              "0        1  \n",
              "1        0  \n",
              "2        1  \n",
              "3        5  \n",
              "4        7  "
            ]
          },
          "execution_count": 10,
          "metadata": {},
          "output_type": "execute_result"
        }
      ],
      "source": [
        "df = pd.DataFrame(X_train,columns = list(range(1,8))) \n",
        "df[\"cluster\"] = classifier.predict(X_train) #To classify each state\n",
        "print(df.shape)\n",
        "df.head()"
      ]
    },
    {
      "cell_type": "markdown",
      "metadata": {
        "id": "TgT_Q4uBCE14"
      },
      "source": [
        "## Make markov chain and find the transition matrix"
      ]
    },
    {
      "cell_type": "code",
      "execution_count": 12,
      "metadata": {
        "id": "390A2qkh0qGp"
      },
      "outputs": [],
      "source": [
        "indx = list(range(0,4624,7))\n",
        "new_df = df.iloc[indx] #\n",
        "\n",
        "sequence = new_df.cluster.to_list()\n",
        "\n",
        "markov_chain = {}\n",
        "\n",
        "# Loop over the sequence and update the Markov chain\n",
        "for i in range(len(sequence)-1):\n",
        "    current_state = sequence[i]\n",
        "    next_state = sequence[i+1]\n",
        "    if current_state not in markov_chain:\n",
        "        markov_chain[current_state] = [0 for i in range(0,9)]\n",
        "    markov_chain[current_state][next_state] += 1\n"
      ]
    },
    {
      "cell_type": "code",
      "execution_count": 13,
      "metadata": {
        "id": "u16w-ecS2XGC"
      },
      "outputs": [],
      "source": [
        "def get_transition_probs(markov_chain):\n",
        "  transition_probs = {}\n",
        "  for k in markov_chain:\n",
        "    transition_probs[k] = markov_chain[k]/np.sum(markov_chain[k])\n",
        "\n",
        "  return transition_probs\n",
        "\n",
        "transition_probs = get_transition_probs(markov_chain)\n",
        "transition_matrix = np.stack([transition_probs[i] for i in range(0,9)],axis=0)"
      ]
    },
    {
      "cell_type": "code",
      "execution_count": 14,
      "metadata": {
        "cellView": "form",
        "colab": {
          "base_uri": "https://localhost:8080/",
          "height": 407
        },
        "id": "dDihjD0L8R9y",
        "outputId": "4d4d212a-5700-4730-9a64-397ae4e14395"
      },
      "outputs": [
        {
          "data": {
            "image/png": "[encoded data removed]",
            "text/plain": [
              "<Figure size 432x432 with 2 Axes>"
            ]
          },
          "metadata": {
            "needs_background": "light"
          },
          "output_type": "display_data"
        }
      ],
      "source": [
        "#@title HeatMatPlot Function \n",
        "labels = [str(i) for i in range(0,9)]\n",
        "\n",
        "fig, ax = plt.subplots(figsize=(6, 6))\n",
        "im = ax.imshow(transition_matrix,cmap=\"coolwarm\")\n",
        "\n",
        "# Show all ticks and label them with the respective list entries\n",
        "ax.set_xticks(np.arange(len(labels)))\n",
        "ax.set_yticks(np.arange(len(labels)))\n",
        "\n",
        "ax.set_xticklabels(labels)\n",
        "ax.set_yticklabels(labels)\n",
        "\n",
        "# Rotate the tick labels and set their alignment.\n",
        "plt.setp(ax.get_xticklabels(), rotation=45, ha=\"right\",\n",
        "         rotation_mode=\"anchor\")\n",
        "\n",
        "# Loop over data dimensions and create text annotations.\n",
        "for i in range(len(labels)):\n",
        "    for j in range(len(labels)):\n",
        "        text = ax.text(j, i, round(transition_matrix[i, j],2),\n",
        "                       ha=\"center\", va=\"center\", color=\"black\")\n",
        "\n",
        "ax.set_title(\"Prob of transition (Current State / Nex State)\")\n",
        "fig.tight_layout()\n",
        "fig.colorbar(im, ax=ax)\n",
        "plt.show()"
      ]
    },
    {
      "cell_type": "markdown",
      "metadata": {
        "id": "wJYDuj-qAmgU"
      },
      "source": [
        "Given the transition matrix, it appears that cluster 6 is the most frequented state, so it is considered important to study the pattern. It is also required further analysis and research to really take advantage of each cluster and possible transition."
      ]
    }
  ],
  "metadata": {
    "colab": {
      "collapsed_sections": [
        "Ngi2FfYhnJjF"
      ],
      "provenance": []
    },
    "kernelspec": {
      "display_name": "base",
      "language": "python",
      "name": "python3"
    },
    "language_info": {
      "codemirror_mode": {
        "name": "ipython",
        "version": 3
      },
      "file_extension": ".py",
      "mimetype": "text/x-python",
      "name": "python",
      "nbconvert_exporter": "python",
      "pygments_lexer": "ipython3",
      "version": "3.9.12"
    },
    "vscode": {
      "interpreter": {
        "hash": "53790479d946e67ad2675c841d10f61af875b76cf52b4813e1aac07adcfbc486"
      }
    }
  },
  "nbformat": 4,
  "nbformat_minor": 0
}
